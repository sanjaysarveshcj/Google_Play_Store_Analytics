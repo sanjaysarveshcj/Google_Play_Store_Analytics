{
 "cells": [
  {
   "cell_type": "code",
   "execution_count": 36,
   "id": "9e872ae9",
   "metadata": {},
   "outputs": [],
   "source": [
    "import pandas as pd\n",
    "import numpy as np\n",
    "import plotly.express as px\n",
    "import plotly.io as pio\n",
    "from sklearn.model_selection import train_test_split\n",
    "from sklearn.ensemble import RandomForestRegressor\n",
    "from sklearn.metrics import mean_squared_error, r2_score\n",
    "from nltk.sentiment.vader import SentimentIntensityAnalyzer\n",
    "import nltk\n",
    "import webbrowser\n",
    "import os\n",
    "import pytz\n",
    "from datetime import datetime, timedelta, timezone"
   ]
  },
  {
   "cell_type": "code",
   "execution_count": 2,
   "id": "52a837ed",
   "metadata": {},
   "outputs": [
    {
     "name": "stderr",
     "output_type": "stream",
     "text": [
      "[nltk_data] Downloading package vader_lexicon to\n",
      "[nltk_data]     C:\\Users\\hp\\AppData\\Roaming\\nltk_data...\n",
      "[nltk_data]   Package vader_lexicon is already up-to-date!\n"
     ]
    },
    {
     "data": {
      "text/plain": [
       "True"
      ]
     },
     "execution_count": 2,
     "metadata": {},
     "output_type": "execute_result"
    }
   ],
   "source": [
    "nltk.download('vader_lexicon')"
   ]
  },
  {
   "cell_type": "code",
   "execution_count": 3,
   "id": "b202a0ff",
   "metadata": {},
   "outputs": [],
   "source": [
    "apps_df=pd.read_csv('Play Store Data.csv')\n",
    "reviews_df=pd.read_csv('User Reviews.csv')\n",
    "regions_df = pd.read_csv(\"Global EV Data 2024.csv\")"
   ]
  },
  {
   "cell_type": "code",
   "execution_count": 4,
   "id": "6ff2bca0",
   "metadata": {},
   "outputs": [
    {
     "name": "stderr",
     "output_type": "stream",
     "text": [
      "C:\\Users\\hp\\AppData\\Local\\Temp\\ipykernel_28412\\865854754.py:3: FutureWarning: A value is trying to be set on a copy of a DataFrame or Series through chained assignment using an inplace method.\n",
      "The behavior will change in pandas 3.0. This inplace method will never work because the intermediate object on which we are setting values always behaves as a copy.\n",
      "\n",
      "For example, when doing 'df[col].method(value, inplace=True)', try using 'df.method({col: value}, inplace=True)' or df[col] = df[col].method(value) instead, to perform the operation inplace on the original object.\n",
      "\n",
      "\n",
      "  apps_df[column].fillna(apps_df[column].mode()[0], inplace=True)\n"
     ]
    }
   ],
   "source": [
    "apps_df = apps_df.dropna(subset=['Rating'])\n",
    "for column in apps_df.columns:\n",
    "    apps_df[column].fillna(apps_df[column].mode()[0], inplace=True)\n",
    "apps_df.drop_duplicates(inplace=True)\n",
    "apps_df = apps_df[apps_df['Rating'] <= 5]\n",
    "reviews_df.dropna(subset=['Translated_Review'], inplace=True)"
   ]
  },
  {
   "cell_type": "code",
   "execution_count": 5,
   "id": "95f39070",
   "metadata": {},
   "outputs": [],
   "source": [
    "apps_df['Reviews'] = apps_df['Reviews'].astype(int)\n",
    "apps_df['Installs'] = apps_df['Installs'].str.replace(',', '').str.replace('+', '').astype(int)\n",
    "apps_df['Price'] = apps_df['Price'].str.replace('$', '').astype(float)"
   ]
  },
  {
   "cell_type": "code",
   "execution_count": 6,
   "id": "e062b10e",
   "metadata": {},
   "outputs": [],
   "source": [
    "def convert_size(size):\n",
    "    if 'M' in size:\n",
    "        return float(size.replace('M', ''))\n",
    "    elif 'k' in size:\n",
    "        return float(size.replace('k', '')) / 1024\n",
    "    else:\n",
    "        return np.nan"
   ]
  },
  {
   "cell_type": "code",
   "execution_count": 7,
   "id": "9627853d",
   "metadata": {},
   "outputs": [],
   "source": [
    "apps_df['Size'] = apps_df['Size'].apply(convert_size)"
   ]
  },
  {
   "cell_type": "code",
   "execution_count": 8,
   "id": "2cb54df1",
   "metadata": {},
   "outputs": [],
   "source": [
    "apps_df['Log_Installs'] = np.log1p(apps_df['Installs'])\n",
    "apps_df['Log_Reviews'] = np.log1p(apps_df['Reviews'])"
   ]
  },
  {
   "cell_type": "code",
   "execution_count": 9,
   "id": "f94a5abf",
   "metadata": {},
   "outputs": [],
   "source": [
    "def rating_group(rating):\n",
    "    if rating >= 4:\n",
    "        return 'Top rated'\n",
    "    elif rating >= 3:\n",
    "        return 'Above average'\n",
    "    elif rating >= 2:\n",
    "        return 'Average'\n",
    "    else:\n",
    "        return 'Below average'\n",
    "\n",
    "apps_df['Rating_Group'] = apps_df['Rating'].apply(rating_group)"
   ]
  },
  {
   "cell_type": "code",
   "execution_count": 10,
   "id": "35350408",
   "metadata": {},
   "outputs": [],
   "source": [
    "apps_df['Revenue'] = apps_df['Price'] * apps_df['Installs']"
   ]
  },
  {
   "cell_type": "code",
   "execution_count": 11,
   "id": "9aaa90de",
   "metadata": {},
   "outputs": [],
   "source": [
    "sia = SentimentIntensityAnalyzer()\n",
    "reviews_df['Sentiment_Score'] = reviews_df['Translated_Review'].apply(lambda x: sia.polarity_scores(str(x))['compound'])"
   ]
  },
  {
   "cell_type": "code",
   "execution_count": 12,
   "id": "ca85ff50",
   "metadata": {},
   "outputs": [],
   "source": [
    "apps_df['Last Updated'] = pd.to_datetime(apps_df['Last Updated'], errors='coerce')\n",
    "apps_df['Year'] = apps_df['Last Updated'].dt.year"
   ]
  },
  {
   "cell_type": "code",
   "execution_count": 13,
   "id": "7a9ea471",
   "metadata": {},
   "outputs": [],
   "source": [
    "unique_regions = regions_df[\"region\"].dropna().unique()\n",
    "\n",
    "apps_df[\"region\"] = [unique_regions[i % len(unique_regions)] for i in range(len(apps_df))]"
   ]
  },
  {
   "cell_type": "code",
   "execution_count": 14,
   "id": "90a5b01f",
   "metadata": {},
   "outputs": [],
   "source": [
    "import re\n",
    "\n",
    "def parse_android_version(ver):\n",
    "    if not isinstance(ver, str):\n",
    "        return None\n",
    "    if \"Varies with device\" in ver:\n",
    "        return None  \n",
    "    match = re.search(r'\\d+(\\.\\d+)?', ver) \n",
    "    if match:\n",
    "        version_str = match.group(0)\n",
    "        parts = version_str.split(\".\")\n",
    "        if len(parts) >= 2:\n",
    "            return float(parts[0] + \".\" + parts[1])\n",
    "        else:\n",
    "            return float(parts[0])\n",
    "    return None\n"
   ]
  },
  {
   "cell_type": "code",
   "execution_count": 15,
   "id": "e40576a2",
   "metadata": {},
   "outputs": [],
   "source": [
    "apps_df[\"Android Ver\"] = apps_df[\"Android Ver\"].apply(parse_android_version)"
   ]
  },
  {
   "cell_type": "code",
   "execution_count": 16,
   "id": "1e17444f",
   "metadata": {},
   "outputs": [],
   "source": [
    "apps_df[\"Month\"] = apps_df[\"Last Updated\"].dt.to_period(\"M\").astype(str)"
   ]
  },
  {
   "cell_type": "code",
   "execution_count": 17,
   "id": "728ead8e",
   "metadata": {},
   "outputs": [],
   "source": [
    "merged_df = pd.merge(apps_df, reviews_df, on='App', how='inner')"
   ]
  },
  {
   "cell_type": "code",
   "execution_count": 18,
   "id": "72894fc1",
   "metadata": {},
   "outputs": [],
   "source": [
    "import plotly.express as px\n",
    "\n",
    "html_files_path = \"./\"\n",
    "\n",
    "if not os.path.exists(html_files_path):\n",
    "    os.makedirs(html_files_path)\n",
    "\n",
    "plot_containers = \"\""
   ]
  },
  {
   "cell_type": "code",
   "execution_count": 19,
   "id": "a094bcb4",
   "metadata": {},
   "outputs": [],
   "source": [
    "def save_plot_as_html(fig, filename, insight):\n",
    "    global plot_containers\n",
    "    filepath = os.path.join(html_files_path, filename)\n",
    "    html_content = pio.to_html(fig, full_html=False, include_plotlyjs='inline')\n",
    "    plot_containers += f\"\"\"\n",
    "    <div class=\"plot-container\" id=\"{filename}\" onclick=\"openPlot('{filename}')\">\n",
    "        <div class=\"plot\">{html_content}</div>\n",
    "        <div class=\"insights\">{insight}</div>\n",
    "    </div>\n",
    "    \"\"\"\n",
    "    fig.write_html(filepath, full_html=False, include_plotlyjs='inline')"
   ]
  },
  {
   "cell_type": "code",
   "execution_count": 20,
   "id": "b16d670b",
   "metadata": {},
   "outputs": [],
   "source": [
    "plot_width = 400\n",
    "plot_height = 300\n",
    "plot_bg_color = 'black'\n",
    "text_color = 'white'\n",
    "title_font = {'size': 16}\n",
    "axis_font = {'size': 12}"
   ]
  },
  {
   "cell_type": "markdown",
   "id": "242b332d",
   "metadata": {},
   "source": [
    "Task 1"
   ]
  },
  {
   "cell_type": "code",
   "execution_count": null,
   "id": "3113d392",
   "metadata": {},
   "outputs": [],
   "source": [
    "filtered_df = apps_df[\n",
    "    (apps_df[\"Rating\"] >= 4.0) &\n",
    "    (apps_df[\"Size\"] >= 10) &\n",
    "    (apps_df[\"Last Updated\"].dt.month == 1)\n",
    "]\n",
    "\n",
    "top_categories = (\n",
    "    filtered_df.groupby(\"Category\")\n",
    "    .agg({\"Rating\": \"mean\", \"Reviews\": \"sum\", \"Installs\": \"sum\"})\n",
    "    .sort_values(\"Installs\", ascending=False)\n",
    "    .head(10)\n",
    "    .reset_index()\n",
    ")\n",
    "\n",
    "\n",
    "india_tz = pytz.timezone(\"Asia/Kolkata\")\n",
    "current_time = datetime.now(india_tz)\n",
    "\n",
    "if 15 <= current_time.hour < 17:\n",
    "    fig11 = px.bar(\n",
    "        top_categories.melt(\n",
    "            id_vars=\"Category\",\n",
    "            value_vars=[\"Rating\", \"Reviews\"],\n",
    "            var_name=\"Metric\",\n",
    "            value_name=\"Value\"\n",
    "        ),\n",
    "        x=\"Category\",\n",
    "        y=\"Value\",\n",
    "        color=\"Metric\",\n",
    "        barmode=\"group\",\n",
    "        labels={\"Category\": \"App Category\", \"Value\": \"Value\"},\n",
    "        title=\"Top 10 App Categories by Installs (Filtered)\",\n",
    "        width=400,\n",
    "        height=300,\n",
    "        color_discrete_sequence=px.colors.sequential.Viridis\n",
    "    )\n",
    "\n",
    "    fig11.update_layout(\n",
    "        plot_bgcolor='black',\n",
    "        paper_bgcolor='black',\n",
    "        font_color='white',\n",
    "        title_font={'size':16},\n",
    "        xaxis=dict(title_font={'size':12}),\n",
    "        yaxis=dict(title_font={'size':12}),\n",
    "        margin=dict(l=10, r=10, t=30, b=10)\n",
    "    )\n",
    "\n",
    "    save_plot_as_html(\n",
    "        fig11,\n",
    "        \"Task1.html\",\n",
    "        \"Comparison of average ratings and total reviews for top app categories (3PM-5PM IST only).\"\n",
    "    )\n",
    "else:\n",
    "    print(\"⏰ Graph hidden - only available between 3 PM and 5 PM IST.\")\n"
   ]
  },
  {
   "cell_type": "code",
   "execution_count": 22,
   "id": "8ed9e5b4",
   "metadata": {},
   "outputs": [
    {
     "data": {
      "text/plain": [
       "App                       object\n",
       "Category                  object\n",
       "Rating                   float64\n",
       "Reviews                    int64\n",
       "Size                     float64\n",
       "Installs                   int64\n",
       "Type                      object\n",
       "Price                    float64\n",
       "Content Rating            object\n",
       "Genres                    object\n",
       "Last Updated      datetime64[ns]\n",
       "Current Ver               object\n",
       "Android Ver              float64\n",
       "Log_Installs             float64\n",
       "Log_Reviews              float64\n",
       "Rating_Group              object\n",
       "Revenue                  float64\n",
       "Year                       int32\n",
       "region                    object\n",
       "Month                     object\n",
       "dtype: object"
      ]
     },
     "execution_count": 22,
     "metadata": {},
     "output_type": "execute_result"
    }
   ],
   "source": [
    "apps_df.dtypes"
   ]
  },
  {
   "cell_type": "markdown",
   "id": "359c7f29",
   "metadata": {},
   "source": [
    "Task 2"
   ]
  },
  {
   "cell_type": "code",
   "execution_count": null,
   "id": "704818f0",
   "metadata": {},
   "outputs": [
    {
     "name": "stderr",
     "output_type": "stream",
     "text": [
      "C:\\Users\\hp\\AppData\\Local\\Temp\\ipykernel_28412\\1961644085.py:30: DeprecationWarning:\n",
      "\n",
      "The library used by the *country names* `locationmode` option is changing in an upcoming version. Country names in existing plots may not work in the new version. To ensure consistent behavior, consider setting `locationmode` to *ISO-3*.\n",
      "\n"
     ]
    }
   ],
   "source": [
    "filtered_choro = apps_df[\n",
    "    ~apps_df[\"Category\"].str.startswith((\"A\", \"C\", \"G\", \"S\"))\n",
    "]\n",
    "\n",
    "choro_grouped = (\n",
    "    filtered_choro.groupby([\"Category\"])[\"Installs\"]\n",
    "    .sum()\n",
    "    .reset_index()\n",
    ")\n",
    "\n",
    "top5_categories = (\n",
    "    choro_grouped.sort_values(\"Installs\", ascending=False)\n",
    "    .head(5)[\"Category\"]\n",
    ")\n",
    "\n",
    "choro_top5 = filtered_choro[filtered_choro[\"Category\"].isin(top5_categories)]\n",
    "\n",
    "choro_top5 = (\n",
    "    choro_top5.groupby([\"region\", \"Category\"], as_index=False)[\"Installs\"].sum()\n",
    ")\n",
    "\n",
    "choro_top5[\"Highlight\"] = choro_top5[\"Installs\"].apply(\n",
    "    lambda x: \"High Installs (>1M)\" if x > 1_000_000 else \"Normal\"\n",
    ")\n",
    "\n",
    "india_tz = pytz.timezone(\"Asia/Kolkata\")\n",
    "current_time = datetime.now(india_tz)\n",
    "\n",
    "if 18 <= current_time.hour < 20:\n",
    "    fig12 = px.choropleth(\n",
    "    choro_top5,\n",
    "    locations=\"region\",\n",
    "    locationmode=\"country names\",\n",
    "    color=\"Installs\",\n",
    "    hover_name=\"Category\",\n",
    "    facet_col=\"Category\",\n",
    "    facet_col_wrap=2,\n",
    "    color_continuous_scale=px.colors.sequential.Plasma,\n",
    "    title=\"Global Installs by Top 5 App Categories\",\n",
    "    width=400,    \n",
    "    height=300,      \n",
    "    facet_col_spacing=0.05,\n",
    "    facet_row_spacing=0.05\n",
    "    )\n",
    "\n",
    "    fig12.update_layout(\n",
    "        plot_bgcolor=\"black\",\n",
    "        paper_bgcolor=\"black\",\n",
    "        font_color=\"white\",\n",
    "        title_font={\"size\": 16},\n",
    "        margin=dict(l=10, r=10, t=50, b=10)\n",
    "    )\n",
    "\n",
    "    fig12.for_each_annotation(lambda a: a.update(text=a.text.split('=')[1]))\n",
    "\n",
    "    save_plot_as_html(\n",
    "        fig12,\n",
    "        \"Task2.html\",\n",
    "        \"Choropleth map showing installs for the top 5 categories (6-8 PM IST only). Categories with installs > 1M are highlighted.\"\n",
    "    )\n",
    "\n",
    "\n",
    "else:\n",
    "    print(\"⏰ Graph hidden - only available between 6 PM and 8 PM IST.\")\n"
   ]
  },
  {
   "cell_type": "markdown",
   "id": "8ba402a0",
   "metadata": {},
   "source": [
    "Task 3"
   ]
  },
  {
   "cell_type": "code",
   "execution_count": null,
   "id": "d0495043",
   "metadata": {},
   "outputs": [],
   "source": [
    "filtered_dual = apps_df[\n",
    "    (apps_df[\"Installs\"] >= 10_000) &\n",
    "    (apps_df[\"Revenue\"] >= 10_000) &\n",
    "    (apps_df[\"Android Ver\"] > 4.0) &\n",
    "    (apps_df[\"Size\"] > 15) &\n",
    "    (apps_df[\"Content Rating\"] == \"Everyone\") &\n",
    "    (apps_df[\"App\"].str.len() <= 30)\n",
    "]\n",
    "\n",
    "top3_categories = (\n",
    "    filtered_dual.groupby(\"Category\")[\"Installs\"]\n",
    "    .sum()\n",
    "    .sort_values(ascending=False)\n",
    "    .head(3)\n",
    "    .index\n",
    ")\n",
    "\n",
    "dual_top3 = filtered_dual[filtered_dual[\"Category\"].isin(top3_categories)]\n",
    "\n",
    "dual_grouped = (\n",
    "    dual_top3.groupby([\"Category\", \"Type\"])\n",
    "    .agg({\"Installs\": \"mean\", \"Revenue\": \"mean\"})\n",
    "    .reset_index()\n",
    ")\n",
    "\n",
    "india_tz = pytz.timezone(\"Asia/Kolkata\")\n",
    "current_time = datetime.now(india_tz)\n",
    "\n",
    "if 13 <= current_time.hour < 14:\n",
    "    import plotly.graph_objects as go\n",
    "\n",
    "    fig13 = go.Figure()\n",
    "\n",
    "    fig13.add_trace(\n",
    "        go.Bar(\n",
    "            x=dual_grouped[\"Category\"] + \" (\" + dual_grouped[\"Type\"] + \")\",\n",
    "            y=dual_grouped[\"Installs\"],\n",
    "            name=\"Average Installs\",\n",
    "            marker_color=\"skyblue\",\n",
    "            yaxis=\"y1\"\n",
    "        )\n",
    "    )\n",
    "\n",
    "    fig13.add_trace(\n",
    "        go.Scatter(\n",
    "            x=dual_grouped[\"Category\"] + \" (\" + dual_grouped[\"Type\"] + \")\",\n",
    "            y=dual_grouped[\"Revenue\"],\n",
    "            name=\"Average Revenue\",\n",
    "            mode=\"lines+markers\",\n",
    "            line=dict(color=\"orange\", width=3),\n",
    "            yaxis=\"y2\"\n",
    "        )\n",
    "    )\n",
    "\n",
    "    fig13.update_layout(\n",
    "    title=\"Dual-Axis Chart: Avg Installs vs Revenue (Free vs Paid)\",\n",
    "    xaxis=dict(\n",
    "        title=dict(text=\"App Category (Free/Paid)\", font=dict(size=16, family=\"Arial\", color=\"white\")),\n",
    "        tickfont=dict(size=12, family=\"Arial\", color=\"white\")\n",
    "    ),\n",
    "    yaxis=dict(\n",
    "        title=dict(text=\"Average Installs\", font=dict(size=16, family=\"Arial\", color=\"white\")),\n",
    "        tickfont=dict(size=12, family=\"Arial\", color=\"white\")\n",
    "    ),\n",
    "    yaxis2=dict(\n",
    "        title=dict(text=\"Average Revenue ($)\", font=dict(size=16, family=\"Arial\", color=\"white\")),\n",
    "        tickfont=dict(size=12, family=\"Arial\", color=\"white\"),\n",
    "        overlaying=\"y\",\n",
    "        side=\"right\"\n",
    "    ),\n",
    "    plot_bgcolor=\"black\",\n",
    "    paper_bgcolor=\"black\",\n",
    "    font_color=\"white\",\n",
    "    title_font=dict(size=14, family=\"Arial\", color=\"white\"),\n",
    "    margin=dict(l=10, r=10, t=30, b=10),\n",
    "    width=400,\n",
    "    height=300,\n",
    "    legend=dict(orientation=\"h\", y=-0.2)\n",
    ")\n",
    "\n",
    "\n",
    "    save_plot_as_html(\n",
    "        fig13,\n",
    "        \"Task3.html\",\n",
    "        \"Comparison of average installs and revenue for Free vs Paid apps in top 3 categories (1-2 PM IST only).\"\n",
    "    )\n",
    "else:\n",
    "    print(\"⏰ Graph hidden - only available between 1 PM and 2 PM IST.\")\n"
   ]
  },
  {
   "cell_type": "markdown",
   "id": "1c5476ca",
   "metadata": {},
   "source": [
    "Task 4"
   ]
  },
  {
   "cell_type": "code",
   "execution_count": 25,
   "id": "117d9252",
   "metadata": {},
   "outputs": [
    {
     "name": "stdout",
     "output_type": "stream",
     "text": [
      "['ART_AND_DESIGN', 'AUTO_AND_VEHICLES', 'BEAUTY', 'BOOKS_AND_REFERENCE', 'BUSINESS', 'COMICS', 'COMMUNICATION', 'DATING', 'EDUCATION', 'ENTERTAINMENT', 'EVENTS', 'FINANCE', 'FOOD_AND_DRINK', 'HEALTH_AND_FITNESS', 'HOUSE_AND_HOME', 'LIBRARIES_AND_DEMO', 'LIFESTYLE', 'GAME', 'FAMILY', 'MEDICAL', 'SOCIAL', 'SHOPPING', 'PHOTOGRAPHY', 'SPORTS', 'TRAVEL_AND_LOCAL', 'TOOLS', 'PERSONALIZATION', 'PRODUCTIVITY', 'PARENTING', 'WEATHER', 'VIDEO_PLAYERS', 'NEWS_AND_MAGAZINES', 'MAPS_AND_NAVIGATION']\n"
     ]
    }
   ],
   "source": [
    "print(merged_df['Category'].unique().tolist())"
   ]
  },
  {
   "cell_type": "code",
   "execution_count": null,
   "id": "e78f248c",
   "metadata": {},
   "outputs": [
    {
     "name": "stderr",
     "output_type": "stream",
     "text": [
      "C:\\Users\\hp\\AppData\\Local\\Temp\\ipykernel_28412\\2157006770.py:13: SettingWithCopyWarning:\n",
      "\n",
      "\n",
      "A value is trying to be set on a copy of a slice from a DataFrame.\n",
      "Try using .loc[row_indexer,col_indexer] = value instead\n",
      "\n",
      "See the caveats in the documentation: https://pandas.pydata.org/pandas-docs/stable/user_guide/indexing.html#returning-a-view-versus-a-copy\n",
      "\n",
      "C:\\Users\\hp\\AppData\\Local\\Temp\\ipykernel_28412\\2157006770.py:15: SettingWithCopyWarning:\n",
      "\n",
      "\n",
      "A value is trying to be set on a copy of a slice from a DataFrame.\n",
      "Try using .loc[row_indexer,col_indexer] = value instead\n",
      "\n",
      "See the caveats in the documentation: https://pandas.pydata.org/pandas-docs/stable/user_guide/indexing.html#returning-a-view-versus-a-copy\n",
      "\n",
      "C:\\Users\\hp\\AppData\\Local\\Temp\\ipykernel_28412\\2157006770.py:18: FutureWarning:\n",
      "\n",
      "'M' is deprecated and will be removed in a future version, please use 'ME' instead.\n",
      "\n"
     ]
    }
   ],
   "source": [
    "filtered_ts = apps_df[\n",
    "    (~apps_df[\"App\"].str.lower().str.startswith((\"x\", \"y\", \"z\"))) & \n",
    "    (apps_df[\"Category\"].str.startswith((\"E\", \"C\", \"B\"))) &         \n",
    "    (apps_df[\"Reviews\"] > 500) &                                    \n",
    "    (~apps_df[\"App\"].str.contains(\"S\", case=False, na=False))      \n",
    "]\n",
    "\n",
    "category_translation = {\n",
    "    \"BEAUTY\": \"सौंदर्य\",     \n",
    "    \"BUSINESS\": \"வணிகம்\",   \n",
    "    \"DATING\": \"DATING\" \n",
    "}\n",
    "filtered_ts[\"Category\"] = filtered_ts[\"Category\"].replace(category_translation)\n",
    "\n",
    "filtered_ts[\"Last Updated\"] = pd.to_datetime(filtered_ts[\"Last Updated\"], errors=\"coerce\")\n",
    "\n",
    "ts_grouped = (\n",
    "    filtered_ts.groupby([pd.Grouper(key=\"Last Updated\", freq=\"M\"), \"Category\"])\n",
    "    .agg({\"Installs\": \"sum\"})\n",
    "    .reset_index()\n",
    "    .sort_values(\"Last Updated\")\n",
    ")\n",
    "\n",
    "ts_grouped[\"MoM_Growth\"] = ts_grouped.groupby(\"Category\")[\"Installs\"].pct_change() * 100\n",
    "\n",
    "india_tz = pytz.timezone(\"Asia/Kolkata\")\n",
    "current_time = datetime.now(india_tz)\n",
    "\n",
    "if 18 <= current_time.hour < 21:\n",
    "    import plotly.graph_objects as go\n",
    "\n",
    "    fig14 = go.Figure()\n",
    "\n",
    "    categories = ts_grouped[\"Category\"].unique()\n",
    "    for cat in categories:\n",
    "        cat_data = ts_grouped[ts_grouped[\"Category\"] == cat]\n",
    "\n",
    "        # Main line\n",
    "        fig14.add_trace(\n",
    "            go.Scatter(\n",
    "                x=cat_data[\"Last Updated\"],\n",
    "                y=cat_data[\"Installs\"],\n",
    "                mode=\"lines+markers\",\n",
    "                name=cat\n",
    "            )\n",
    "        )\n",
    "\n",
    "        high_growth = cat_data[cat_data[\"MoM_Growth\"] > 20]\n",
    "        if not high_growth.empty:\n",
    "            fig14.add_trace(\n",
    "                go.Scatter(\n",
    "                    x=high_growth[\"Last Updated\"],\n",
    "                    y=high_growth[\"Installs\"],\n",
    "                    mode=\"lines\",\n",
    "                    line=dict(width=0),\n",
    "                    showlegend=False,\n",
    "                    hoverinfo=\"skip\",\n",
    "                    fill=\"tozeroy\",\n",
    "                    fillcolor=\"rgba(255, 165, 0, 0.3)\"  \n",
    "                )\n",
    "            )\n",
    "\n",
    "    fig14.update_layout(\n",
    "        title=\"Time Series: Total Installs Trend by Category\",\n",
    "        xaxis_title=\"Month\",\n",
    "        yaxis_title=\"Total Installs\",\n",
    "        plot_bgcolor=\"black\",\n",
    "        paper_bgcolor=\"black\",\n",
    "        font_color=\"white\",\n",
    "        title_font={\"size\": 16},\n",
    "        margin=dict(l=10, r=10, t=30, b=10),\n",
    "        width=400,\n",
    "        height=300,\n",
    "        legend=dict(orientation=\"h\", y=-0.2)\n",
    "    )\n",
    "\n",
    "    save_plot_as_html(\n",
    "        fig14,\n",
    "        \"Task4.html\",\n",
    "        \"Time series of installs segmented by category. Highlighted areas show >20% MoM growth (6-9 PM IST only).\"\n",
    "    )\n",
    "else:\n",
    "    print(\"⏰ Graph hidden - only available between 6 PM and 9 PM IST.\")\n"
   ]
  },
  {
   "cell_type": "markdown",
   "id": "ab4f88e3",
   "metadata": {},
   "source": [
    "Task 5"
   ]
  },
  {
   "cell_type": "code",
   "execution_count": null,
   "id": "163620be",
   "metadata": {},
   "outputs": [
    {
     "name": "stderr",
     "output_type": "stream",
     "text": [
      "C:\\Users\\hp\\AppData\\Local\\Temp\\ipykernel_28412\\2852508777.py:24: SettingWithCopyWarning:\n",
      "\n",
      "\n",
      "A value is trying to be set on a copy of a slice from a DataFrame.\n",
      "Try using .loc[row_indexer,col_indexer] = value instead\n",
      "\n",
      "See the caveats in the documentation: https://pandas.pydata.org/pandas-docs/stable/user_guide/indexing.html#returning-a-view-versus-a-copy\n",
      "\n"
     ]
    }
   ],
   "source": [
    "allowed_categories = [\n",
    "    \"GAME\", \"BEAUTY\", \"BUSINESS\", \"COMICS\", \"COMMUNICATION\",\n",
    "    \"DATING\", \"ENTERTAINMENT\", \"SOCIAL\", \"EVENTS\"\n",
    "]\n",
    "\n",
    "if \"Sentiment_Subjectivity\" in merged_df.columns:\n",
    "    filtered_bubble = merged_df[\n",
    "        (merged_df[\"Rating\"] > 3.5) &\n",
    "        (merged_df[\"Category\"].isin(allowed_categories)) &\n",
    "        (merged_df[\"Reviews\"] > 500) &\n",
    "        (~merged_df[\"App\"].str.contains(\"S\", case=False, na=False)) &\n",
    "        (merged_df[\"Sentiment_Subjectivity\"] > 0.5) &\n",
    "        (merged_df[\"Installs\"] > 50_000)\n",
    "    ]\n",
    "else:\n",
    "    print(\"⚠️ Sentiment_Subjectivity column missing in merged_df. Please check merge or column names.\")\n",
    "\n",
    "\n",
    "category_translation = {\n",
    "    \"BEAUTY\": \"सौंदर्य\",    \n",
    "    \"BUSINESS\": \"வணிகம்\", \n",
    "    \"DATING\": \"DATING\"\n",
    "}\n",
    "filtered_bubble[\"Category\"] = filtered_bubble[\"Category\"].replace(category_translation)\n",
    "\n",
    "india_tz = pytz.timezone(\"Asia/Kolkata\")\n",
    "current_time = datetime.now(india_tz)\n",
    "\n",
    "if 17 <= current_time.hour < 19:\n",
    "    import plotly.express as px\n",
    "\n",
    "    fig15 = px.scatter(\n",
    "        filtered_bubble,\n",
    "        x=\"Size\",\n",
    "        y=\"Rating\",\n",
    "        size=\"Installs\",\n",
    "        color=\"Category\",\n",
    "        hover_name=\"App\",\n",
    "        title=\"Bubble Chart: App Size vs Rating\",\n",
    "        labels={\"Size\": \"App Size (MB)\", \"Rating\": \"Average Rating\"},\n",
    "        size_max=50,\n",
    "        width=400,\n",
    "        height=300\n",
    "    )\n",
    "\n",
    "    fig15.for_each_trace(\n",
    "        lambda trace: trace.update(marker=dict(color=\"pink\"))\n",
    "        if \"GAME\" in trace.name else ()\n",
    "    )\n",
    "\n",
    "    fig15.update_layout(\n",
    "        plot_bgcolor=\"black\",\n",
    "        paper_bgcolor=\"black\",\n",
    "        font_color=\"white\",\n",
    "        title_font=dict(size=16),\n",
    "        margin=dict(l=10, r=10, t=30, b=10),\n",
    "        legend=dict(orientation=\"h\", y=-0.2)\n",
    "    )\n",
    "\n",
    "    save_plot_as_html(\n",
    "        fig15,\n",
    "        \"Task5.html\",\n",
    "        \"Bubble chart showing relationship between app size and rating. \"\n",
    "        \"Bubble size = installs. Game category highlighted in pink (5-7 PM IST only).\"\n",
    "    )\n",
    "else:\n",
    "    print(\"⏰ Graph hidden - only available between 5 PM and 7 PM IST.\")\n"
   ]
  },
  {
   "cell_type": "markdown",
   "id": "19c1f5c4",
   "metadata": {},
   "source": [
    "Task 6"
   ]
  },
  {
   "cell_type": "code",
   "execution_count": null,
   "id": "442cd561",
   "metadata": {},
   "outputs": [
    {
     "name": "stderr",
     "output_type": "stream",
     "text": [
      "C:\\Users\\hp\\AppData\\Local\\Temp\\ipykernel_28412\\2597474288.py:14: SettingWithCopyWarning:\n",
      "\n",
      "\n",
      "A value is trying to be set on a copy of a slice from a DataFrame.\n",
      "Try using .loc[row_indexer,col_indexer] = value instead\n",
      "\n",
      "See the caveats in the documentation: https://pandas.pydata.org/pandas-docs/stable/user_guide/indexing.html#returning-a-view-versus-a-copy\n",
      "\n"
     ]
    }
   ],
   "source": [
    "filtered_df = apps_df[\n",
    "    (apps_df['Rating'] >= 4.2) &\n",
    "    (~apps_df['App'].str.contains(r'\\d')) & \n",
    "    (apps_df['Category'].str.startswith(('T', 'P'))) &\n",
    "    (apps_df['Reviews'] > 1000) &\n",
    "    (apps_df['Size'].between(20, 80))\n",
    "]\n",
    "\n",
    "category_map = {\n",
    "    \"TRAVEL_AND_LOCAL\": \"VOYAGES ET LOCAL\",  \n",
    "    \"PRODUCTIVITY\": \"PRODUCTIVIDAD\",      \n",
    "    \"PHOTOGRAPHY\": \"写真\"                  \n",
    "}\n",
    "filtered_df['Category'] = filtered_df['Category'].replace(category_map)\n",
    "\n",
    "grouped = filtered_df.groupby(['Month', 'Category'])['Installs'].sum().reset_index()\n",
    "pivot_df = grouped.pivot(index='Month', columns='Category', values='Installs').fillna(0)\n",
    "cumulative = pivot_df.cumsum()\n",
    "\n",
    "growth_mask = cumulative.pct_change() > 0.25\n",
    "\n",
    "current_time = datetime.now().astimezone(timezone(timedelta(hours=5, minutes=30)))\n",
    "\n",
    "if 16 <= current_time.hour < 18:\n",
    "    fig14 = go.Figure()\n",
    "\n",
    "    for category in cumulative.columns:\n",
    "        fig14.add_trace(go.Scatter(\n",
    "            x=cumulative.index,\n",
    "            y=cumulative[category],\n",
    "            mode='lines',\n",
    "            stackgroup='one',\n",
    "            name=category,\n",
    "            line=dict(width=0.5)\n",
    "        ))\n",
    "\n",
    "        highlight_months = growth_mask.index[growth_mask[category].fillna(False)]\n",
    "        if not highlight_months.empty:\n",
    "            fig14.add_trace(go.Scatter(\n",
    "                x=highlight_months,\n",
    "                y=cumulative.loc[highlight_months, category],\n",
    "                mode='markers',\n",
    "                name=f\"{category} (Growth >25%)\",\n",
    "                marker=dict(size=10, color='red', symbol=\"circle-open\")\n",
    "            ))\n",
    "\n",
    "    fig14.update_layout(\n",
    "        title=\"Cumulative Installs Over Time by Category\",\n",
    "        xaxis_title=\"Month\",\n",
    "        yaxis_title=\"Cumulative Installs\",\n",
    "        hovermode=\"x unified\",\n",
    "        legend_title=\"App Category\",\n",
    "        plot_bgcolor='black',\n",
    "        paper_bgcolor='black',\n",
    "        font_color='white',\n",
    "        title_font={'size':16},\n",
    "        margin=dict(l=10,r=10,t=30,b=10),\n",
    "        width=400,\n",
    "        height=300\n",
    "    )\n",
    "\n",
    "    save_plot_as_html(fig14,\"Task6.html\",\n",
    "        \"Shows cumulative installs over time for selected categories, with translations and highlights for >25% growth months\")\n",
    "\n",
    "else:\n",
    "    print(\"⏳ Chart hidden (Only available between 4 PM - 6 PM IST).\")\n"
   ]
  },
  {
   "cell_type": "code",
   "execution_count": 32,
   "id": "55376eca",
   "metadata": {},
   "outputs": [],
   "source": [
    "plot_containers_split = plot_containers.split('</div>')\n",
    "if len(plot_containers_split) > 1:\n",
    "    final_plot = plot_containers_split[-2] + '</div>'\n",
    "else:\n",
    "    final_plot = plot_containers"
   ]
  },
  {
   "cell_type": "code",
   "execution_count": 33,
   "id": "d775082e",
   "metadata": {},
   "outputs": [],
   "source": [
    "dashboard_html = \"\"\"\n",
    "<!DOCTYPE html>\n",
    "<html lang=\"en\">\n",
    "<head>\n",
    "    <meta charset=\"UTF-8\">\n",
    "    <meta name=\"viewport\" content=\"width=device-width, initial-scale=1.0\">\n",
    "    <title>Google Play Store Reviews Analytics</title>\n",
    "    <style>\n",
    "        body {{\n",
    "            font-family: Arial, sans-serif;\n",
    "            background-color: #333;\n",
    "            color: #fff;\n",
    "            margin: 0;\n",
    "            padding: 0;\n",
    "        }}\n",
    "        .header {{\n",
    "            display: flex;\n",
    "            align-items: center;\n",
    "            justify-content: center;\n",
    "            padding: 20px;\n",
    "            background-color: #444;\n",
    "        }}\n",
    "        .header img {{\n",
    "            margin: 0 10px;\n",
    "            height: 50px;\n",
    "        }}\n",
    "        .container {{\n",
    "            display: flex;\n",
    "            flex-wrap: wrap;\n",
    "            justify-content: center;\n",
    "            padding: 20px;\n",
    "        }}\n",
    "        .plot-container {{\n",
    "            border: 2px solid #555;\n",
    "            margin: 10px;\n",
    "            padding: 10px;\n",
    "            width: {plot_width}px;\n",
    "            height: {plot_height}px;\n",
    "            overflow: hidden;\n",
    "            position: relative;\n",
    "            cursor: pointer;\n",
    "        }}\n",
    "        .insights {{\n",
    "            display: none;\n",
    "            position: absolute;\n",
    "            right: 10px;\n",
    "            top: 10px;\n",
    "            background-color: rgba(0, 0, 0, 0.7);\n",
    "            padding: 5px;\n",
    "            border-radius: 5px;\n",
    "            color: #fff;\n",
    "        }}\n",
    "        .plot-container:hover .insights {{\n",
    "            display: block;\n",
    "        }}\n",
    "    </style>\n",
    "    <script>\n",
    "        function openPlot(filename) {{\n",
    "            window.open(filename, '_blank');\n",
    "        }}\n",
    "    </script>\n",
    "</head>\n",
    "<body>\n",
    "    <div class=\"header\">\n",
    "        <img src=\"https://upload.wikimedia.org/wikipedia/commons/thumb/4/4a/Logo_2013_Google.png/800px-Logo_2013_Google.png\" alt=\"Google Logo\">\n",
    "        <h1>Google Play Store Reviews Analytics</h1>\n",
    "        <img src=\"https://upload.wikimedia.org/wikipedia/commons/thumb/7/78/Google_Play_Store_badge_EN.svg/1024px-Google_Play_Store_badge_EN.svg.png\" alt=\"Google Play Store Logo\">\n",
    "    </div>\n",
    "    <div class=\"container\">\n",
    "        <p style=\"width:100%; text-align:center; font-size:20px; font-weight:bold; margin-bottom:20px;\">\n",
    "            Internship Tasks Analysis Dashboard\n",
    "        </p>\n",
    "        {plots}\n",
    "    </div>\n",
    "</body>\n",
    "</html>\n",
    "\"\"\""
   ]
  },
  {
   "cell_type": "code",
   "execution_count": 34,
   "id": "6a3ece0e",
   "metadata": {},
   "outputs": [
    {
     "data": {
      "text/plain": [
       "True"
      ]
     },
     "execution_count": 34,
     "metadata": {},
     "output_type": "execute_result"
    }
   ],
   "source": [
    "final_html = dashboard_html.format(plots=plot_containers, plot_width=plot_width, plot_height=plot_height)\n",
    "\n",
    "dashboard_path = os.path.join(html_files_path, \"dashboard.html\")\n",
    "with open(dashboard_path, \"w\", encoding=\"utf-8\") as f:\n",
    "    f.write(final_html)\n",
    "\n",
    "webbrowser.open('file://' + os.path.realpath(dashboard_path))"
   ]
  }
 ],
 "metadata": {
  "kernelspec": {
   "display_name": "venv",
   "language": "python",
   "name": "python3"
  },
  "language_info": {
   "codemirror_mode": {
    "name": "ipython",
    "version": 3
   },
   "file_extension": ".py",
   "mimetype": "text/x-python",
   "name": "python",
   "nbconvert_exporter": "python",
   "pygments_lexer": "ipython3",
   "version": "3.12.0"
  }
 },
 "nbformat": 4,
 "nbformat_minor": 5
}
